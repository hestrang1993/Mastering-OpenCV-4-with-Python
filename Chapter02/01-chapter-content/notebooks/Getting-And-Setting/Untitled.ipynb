{
 "cells": [
  {
   "cell_type": "code",
   "execution_count": null,
   "id": "a306372b-53b3-4cbd-af4a-25e615b0fb8a",
   "metadata": {},
   "outputs": [],
   "source": [
    "from cv2"
   ]
  },
  {
   "cell_type": "code",
   "execution_count": null,
   "id": "7fd2931f-2018-4ec9-a374-65aba5a26765",
   "metadata": {},
   "outputs": [],
   "source": []
  }
 ],
 "metadata": {
  "kernelspec": {
   "display_name": "Python 3",
   "language": "python",
   "name": "python3"
  },
  "language_info": {
   "codemirror_mode": {
    "name": "ipython",
    "version": 3
   },
   "file_extension": ".py",
   "mimetype": "text/x-python",
   "name": "python",
   "nbconvert_exporter": "python",
   "pygments_lexer": "ipython3",
   "version": "3.9.4"
  },
  "widgets": {
   "application/vnd.jupyter.widget-state+json": {
    "state": {},
    "version_major": 2,
    "version_minor": 0
   }
  }
 },
 "nbformat": 4,
 "nbformat_minor": 5
}
